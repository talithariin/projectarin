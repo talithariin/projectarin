{
 "cells": [
  {
   "cell_type": "code",
   "execution_count": 1,
   "metadata": {},
   "outputs": [],
   "source": [
    "import numpy as np\n",
    "\n",
    "import matplotlib.pyplot as plt\n",
    "import seaborn as sns\n",
    "\n",
    "from sklearn.metrics import confusion_matrix\n",
    "\n",
    "import json\n",
    "\n",
    "import pandas as pd\n",
    "\n",
    "from keras.utils import to_categorical\n",
    "from sklearn.preprocessing import LabelEncoder\n",
    "\n",
    "from sklearn.model_selection import train_test_split"
   ]
  },
  {
   "cell_type": "code",
   "execution_count": 2,
   "metadata": {},
   "outputs": [],
   "source": [
    "with open('/Users/talithaarini/Documents/VS Code/Pengpol/Ektraksi Fiture Sirine.json', 'r') as f:\n",
    "    Data = json.load(f)"
   ]
  },
  {
   "cell_type": "code",
   "execution_count": 3,
   "metadata": {},
   "outputs": [
    {
     "name": "stdout",
     "output_type": "stream",
     "text": [
      "                                               feature      class\n",
      "0    [-179.03173828125, 200.6383819580078, -15.3265...    traffic\n",
      "1    [-182.95831298828125, 191.9713897705078, -23.6...    traffic\n",
      "2    [-190.82022094726562, 191.2377471923828, -27.0...    traffic\n",
      "3    [-179.11489868164062, 200.8822784423828, -15.5...    traffic\n",
      "4    [-157.5471954345703, 164.5159454345703, -41.10...    traffic\n",
      "..                                                 ...        ...\n",
      "595  [-89.9086685180664, 127.67399597167969, -53.42...  ambulance\n",
      "596  [-169.7108154296875, 104.45870208740234, -59.5...  ambulance\n",
      "597  [-189.95802307128906, 124.92961120605469, -55....  ambulance\n",
      "598  [-144.11634826660156, 100.40633392333984, -50....  ambulance\n",
      "599  [-369.4662170410156, 24.1889591217041, -69.433...  ambulance\n",
      "\n",
      "[600 rows x 2 columns]\n"
     ]
    }
   ],
   "source": [
    "df = pd.DataFrame(Data,columns=['feature','class'])\n",
    "print(df)"
   ]
  },
  {
   "cell_type": "code",
   "execution_count": 4,
   "metadata": {},
   "outputs": [
    {
     "data": {
      "text/plain": [
       "class\n",
       "traffic      200\n",
       "firetruck    200\n",
       "ambulance    200\n",
       "Name: count, dtype: int64"
      ]
     },
     "execution_count": 4,
     "metadata": {},
     "output_type": "execute_result"
    }
   ],
   "source": [
    "df['class'].value_counts()"
   ]
  },
  {
   "cell_type": "code",
   "execution_count": 5,
   "metadata": {},
   "outputs": [],
   "source": [
    "X = np.array(df['feature'].tolist())\n",
    "Y = np.array(df['class'].tolist())"
   ]
  },
  {
   "cell_type": "code",
   "execution_count": 6,
   "metadata": {},
   "outputs": [],
   "source": [
    "labelencoder = LabelEncoder()\n",
    "y = to_categorical(labelencoder.fit_transform(Y))"
   ]
  },
  {
   "cell_type": "code",
   "execution_count": 7,
   "metadata": {},
   "outputs": [],
   "source": [
    "X_train, X_test, y_train, y_test = train_test_split(X, y, test_size=0.2, random_state=0, stratify=y, shuffle=True)"
   ]
  },
  {
   "cell_type": "code",
   "execution_count": 8,
   "metadata": {},
   "outputs": [],
   "source": [
    "from keras.layers import *\n",
    "from keras.models import *\n",
    "from keras.callbacks import *\n",
    "from keras import backend as K\n",
    "from keras.callbacks import EarlyStopping\n",
    "\n",
    "from sklearn.metrics import f1_score, precision_score, recall_score"
   ]
  },
  {
   "cell_type": "code",
   "execution_count": 9,
   "metadata": {},
   "outputs": [],
   "source": [
    "X_train_features  = X_train.reshape(len(X_train),-1,1)\n",
    "X_test_features = X_test.reshape(len(X_test),-1,1)"
   ]
  },
  {
   "cell_type": "code",
   "execution_count": 11,
   "metadata": {},
   "outputs": [],
   "source": [
    "# CNN\n",
    "def cnn(optimizer=\"Adam\", activation=\"relu\", dropout_rate=0.5):\n",
    "    K.clear_session()\n",
    "    inputs = Input(shape=(X_train_features.shape[1], X_train_features.shape[2]))\n",
    "\n",
    "    conv = Conv1D(3, 13, padding='same', activation=activation)(inputs)\n",
    "\n",
    "    if dropout_rate != 0:\n",
    "        conv = Dropout(dropout_rate)(conv)\n",
    "    conv = MaxPooling1D(2)(conv)\n",
    "\n",
    "    conv = Conv1D(16, 11, padding='same', activation=activation)(conv)\n",
    "    if dropout_rate != 0:\n",
    "        conv = Dropout(dropout_rate)(conv)\n",
    "    conv = MaxPooling1D(2)(conv)\n",
    "\n",
    "    conv = GlobalMaxPool1D()(conv)\n",
    "\n",
    "    conv = Dense(16, activation=activation)(conv)\n",
    "    outputs = Dense(y_test.shape[1], activation='softmax')(conv)\n",
    "\n",
    "    model = Model(inputs, outputs)\n",
    "    model.compile(loss='categorical_crossentropy',optimizer=optimizer,metrics=['acc'])\n",
    "    return model"
   ]
  },
  {
   "cell_type": "code",
   "execution_count": 24,
   "metadata": {},
   "outputs": [
    {
     "name": "stdout",
     "output_type": "stream",
     "text": [
      "Model: \"model\"\n",
      "_________________________________________________________________\n",
      " Layer (type)                Output Shape              Param #   \n",
      "=================================================================\n",
      " input_1 (InputLayer)        [(None, 80, 1)]           0         \n",
      "                                                                 \n",
      " conv1d (Conv1D)             (None, 80, 3)             42        \n",
      "                                                                 \n",
      " max_pooling1d (MaxPooling1  (None, 40, 3)             0         \n",
      " D)                                                              \n",
      "                                                                 \n",
      " conv1d_1 (Conv1D)           (None, 40, 16)            544       \n",
      "                                                                 \n",
      " max_pooling1d_1 (MaxPoolin  (None, 20, 16)            0         \n",
      " g1D)                                                            \n",
      "                                                                 \n",
      " global_max_pooling1d (Glob  (None, 16)                0         \n",
      " alMaxPooling1D)                                                 \n",
      "                                                                 \n",
      " dense (Dense)               (None, 16)                272       \n",
      "                                                                 \n",
      " dense_1 (Dense)             (None, 3)                 51        \n",
      "                                                                 \n",
      "=================================================================\n",
      "Total params: 909 (3.55 KB)\n",
      "Trainable params: 909 (3.55 KB)\n",
      "Non-trainable params: 0 (0.00 Byte)\n",
      "_________________________________________________________________\n"
     ]
    }
   ],
   "source": [
    "model_cnn = cnn(optimizer=\"Adam\", activation=\"relu\", dropout_rate=0)\n",
    "model_cnn.summary()"
   ]
  },
  {
   "cell_type": "code",
   "execution_count": 19,
   "metadata": {},
   "outputs": [
    {
     "name": "stdout",
     "output_type": "stream",
     "text": [
      "Epoch 1/200\n",
      "8/8 [==============================] - 0s 16ms/step - loss: 6.2252 - acc: 0.3417 - val_loss: 2.1657 - val_acc: 0.3417\n",
      "Epoch 2/200\n",
      "8/8 [==============================] - 0s 5ms/step - loss: 1.5830 - acc: 0.4146 - val_loss: 0.9061 - val_acc: 0.5333\n",
      "Epoch 3/200\n",
      "8/8 [==============================] - 0s 5ms/step - loss: 0.7988 - acc: 0.6562 - val_loss: 0.7728 - val_acc: 0.6583\n",
      "Epoch 4/200\n",
      "8/8 [==============================] - 0s 5ms/step - loss: 0.6978 - acc: 0.6958 - val_loss: 0.6054 - val_acc: 0.7833\n",
      "Epoch 5/200\n",
      "8/8 [==============================] - 0s 5ms/step - loss: 0.5500 - acc: 0.8146 - val_loss: 0.5177 - val_acc: 0.8000\n",
      "Epoch 6/200\n",
      "8/8 [==============================] - 0s 5ms/step - loss: 0.5160 - acc: 0.8375 - val_loss: 0.4590 - val_acc: 0.8417\n",
      "Epoch 7/200\n",
      "8/8 [==============================] - 0s 5ms/step - loss: 0.4405 - acc: 0.8729 - val_loss: 0.4196 - val_acc: 0.8667\n",
      "Epoch 8/200\n",
      "8/8 [==============================] - 0s 5ms/step - loss: 0.3958 - acc: 0.8771 - val_loss: 0.3854 - val_acc: 0.8750\n",
      "Epoch 9/200\n",
      "8/8 [==============================] - 0s 6ms/step - loss: 0.3538 - acc: 0.9042 - val_loss: 0.3520 - val_acc: 0.8833\n",
      "Epoch 10/200\n",
      "8/8 [==============================] - 0s 5ms/step - loss: 0.3192 - acc: 0.9208 - val_loss: 0.3307 - val_acc: 0.8833\n",
      "Epoch 11/200\n",
      "8/8 [==============================] - 0s 6ms/step - loss: 0.2945 - acc: 0.9229 - val_loss: 0.3131 - val_acc: 0.8833\n",
      "Epoch 12/200\n",
      "8/8 [==============================] - 0s 6ms/step - loss: 0.2725 - acc: 0.9292 - val_loss: 0.2952 - val_acc: 0.8917\n",
      "Epoch 13/200\n",
      "8/8 [==============================] - 0s 6ms/step - loss: 0.2543 - acc: 0.9417 - val_loss: 0.2731 - val_acc: 0.9000\n",
      "Epoch 14/200\n",
      "8/8 [==============================] - 0s 6ms/step - loss: 0.2322 - acc: 0.9396 - val_loss: 0.2562 - val_acc: 0.9000\n",
      "Epoch 15/200\n",
      "8/8 [==============================] - 0s 6ms/step - loss: 0.2171 - acc: 0.9521 - val_loss: 0.2431 - val_acc: 0.9000\n",
      "Epoch 16/200\n",
      "8/8 [==============================] - 0s 6ms/step - loss: 0.2055 - acc: 0.9458 - val_loss: 0.2344 - val_acc: 0.9000\n",
      "Epoch 17/200\n",
      "8/8 [==============================] - 0s 6ms/step - loss: 0.1928 - acc: 0.9479 - val_loss: 0.2230 - val_acc: 0.9167\n",
      "Epoch 18/200\n",
      "8/8 [==============================] - 0s 11ms/step - loss: 0.1864 - acc: 0.9563 - val_loss: 0.2183 - val_acc: 0.9167\n",
      "Epoch 19/200\n",
      "8/8 [==============================] - 0s 6ms/step - loss: 0.1781 - acc: 0.9521 - val_loss: 0.2074 - val_acc: 0.9250\n",
      "Epoch 20/200\n",
      "8/8 [==============================] - 0s 6ms/step - loss: 0.1628 - acc: 0.9583 - val_loss: 0.1953 - val_acc: 0.9250\n",
      "Epoch 21/200\n",
      "8/8 [==============================] - 0s 6ms/step - loss: 0.1570 - acc: 0.9563 - val_loss: 0.1909 - val_acc: 0.9417\n",
      "Epoch 22/200\n",
      "8/8 [==============================] - 0s 5ms/step - loss: 0.1488 - acc: 0.9583 - val_loss: 0.1825 - val_acc: 0.9417\n",
      "Epoch 23/200\n",
      "8/8 [==============================] - 0s 5ms/step - loss: 0.1414 - acc: 0.9604 - val_loss: 0.1763 - val_acc: 0.9417\n",
      "Epoch 24/200\n",
      "8/8 [==============================] - 0s 6ms/step - loss: 0.1372 - acc: 0.9625 - val_loss: 0.1758 - val_acc: 0.9500\n",
      "Epoch 25/200\n",
      "8/8 [==============================] - 0s 6ms/step - loss: 0.1300 - acc: 0.9625 - val_loss: 0.1675 - val_acc: 0.9500\n",
      "Epoch 26/200\n",
      "8/8 [==============================] - 0s 6ms/step - loss: 0.1233 - acc: 0.9667 - val_loss: 0.1607 - val_acc: 0.9417\n",
      "Epoch 27/200\n",
      "8/8 [==============================] - 0s 7ms/step - loss: 0.1190 - acc: 0.9729 - val_loss: 0.1609 - val_acc: 0.9583\n",
      "Epoch 28/200\n",
      "8/8 [==============================] - 0s 6ms/step - loss: 0.1143 - acc: 0.9688 - val_loss: 0.1530 - val_acc: 0.9417\n",
      "Epoch 29/200\n",
      "8/8 [==============================] - 0s 6ms/step - loss: 0.1129 - acc: 0.9646 - val_loss: 0.1469 - val_acc: 0.9667\n",
      "Epoch 30/200\n",
      "8/8 [==============================] - 0s 6ms/step - loss: 0.1082 - acc: 0.9792 - val_loss: 0.1466 - val_acc: 0.9500\n",
      "Epoch 31/200\n",
      "8/8 [==============================] - 0s 6ms/step - loss: 0.1015 - acc: 0.9729 - val_loss: 0.1393 - val_acc: 0.9583\n",
      "Epoch 32/200\n",
      "8/8 [==============================] - 0s 7ms/step - loss: 0.0968 - acc: 0.9750 - val_loss: 0.1362 - val_acc: 0.9583\n",
      "Epoch 33/200\n",
      "8/8 [==============================] - 0s 6ms/step - loss: 0.0943 - acc: 0.9729 - val_loss: 0.1357 - val_acc: 0.9583\n",
      "Epoch 34/200\n",
      "8/8 [==============================] - 0s 6ms/step - loss: 0.0905 - acc: 0.9812 - val_loss: 0.1310 - val_acc: 0.9667\n",
      "Epoch 35/200\n",
      "8/8 [==============================] - 0s 6ms/step - loss: 0.0868 - acc: 0.9812 - val_loss: 0.1277 - val_acc: 0.9583\n",
      "Epoch 36/200\n",
      "8/8 [==============================] - 0s 6ms/step - loss: 0.0832 - acc: 0.9812 - val_loss: 0.1275 - val_acc: 0.9583\n",
      "Epoch 37/200\n",
      "8/8 [==============================] - 0s 6ms/step - loss: 0.0816 - acc: 0.9812 - val_loss: 0.1208 - val_acc: 0.9667\n",
      "Epoch 38/200\n",
      "8/8 [==============================] - 0s 6ms/step - loss: 0.0792 - acc: 0.9812 - val_loss: 0.1194 - val_acc: 0.9667\n",
      "Epoch 39/200\n",
      "8/8 [==============================] - 0s 6ms/step - loss: 0.0820 - acc: 0.9792 - val_loss: 0.1185 - val_acc: 0.9583\n"
     ]
    }
   ],
   "source": [
    "# Callback early stop\n",
    "early_stop = EarlyStopping(monitor = 'val_acc', mode ='max', patience = 10, restore_best_weights = True)\n",
    "\n",
    "# Training model\n",
    "history = model_cnn.fit(X_train_features, y_train, epochs = 200,\n",
    "                       callbacks = [early_stop],\n",
    "                       batch_size = 64, validation_data = (X_test_features, y_test))\n"
   ]
  },
  {
   "cell_type": "code",
   "execution_count": 20,
   "metadata": {},
   "outputs": [
    {
     "data": {
      "image/png": "[encoded data removed]",
      "text/plain": [
       "<Figure size 640x480 with 1 Axes>"
      ]
     },
     "metadata": {},
     "output_type": "display_data"
    }
   ],
   "source": [
    "plt.plot(history.history['loss'])\n",
    "plt.plot(history.history['val_loss'])\n",
    "plt.title('Model Loss')\n",
    "plt.xlabel('Epoch')\n",
    "plt.ylabel('Loss')\n",
    "plt.legend(['train', 'validation'], loc = 'upper left')\n",
    "plt.show()"
   ]
  },
  {
   "cell_type": "code",
   "execution_count": 25,
   "metadata": {},
   "outputs": [
    {
     "name": "stdout",
     "output_type": "stream",
     "text": [
      "4/4 [==============================] - 0s 4ms/step - loss: 6.4046 - acc: 0.0500\n",
      "Test Accuracy :  0.05000000074505806\n"
     ]
    }
   ],
   "source": [
    "# Evaluasi model dengan data testing\n",
    "acc = model_cnn.evaluate(X_test_features, y_test)\n",
    "print(\"Test Accuracy : \", acc[1])"
   ]
  },
  {
   "cell_type": "code",
   "execution_count": 22,
   "metadata": {},
   "outputs": [
    {
     "name": "stdout",
     "output_type": "stream",
     "text": [
      "4/4 [==============================] - 0s 1ms/step\n"
     ]
    }
   ],
   "source": [
    "y_pred = model_cnn.predict(X_test_features)"
   ]
  },
  {
   "cell_type": "code",
   "execution_count": 26,
   "metadata": {},
   "outputs": [
    {
     "data": {
      "image/png": "[encoded data removed]",
      "text/plain": [
       "<Figure size 1200x1000 with 1 Axes>"
      ]
     },
     "metadata": {},
     "output_type": "display_data"
    }
   ],
   "source": [
    "conf_mat = confusion_matrix(np.argmax(y_test, axis=1), np.argmax(y_pred, axis=1))\n",
    "fig, ax = plt.subplots(figsize=(12,10))\n",
    "sns.heatmap(conf_mat, annot=True, fmt='d', xticklabels=labelencoder.classes_, yticklabels=labelencoder.classes_, cbar=False)\n",
    "plt.ylabel('Actual')\n",
    "plt.xlabel('Predicted')\n",
    "plt.show()"
   ]
  },
  {
   "cell_type": "code",
   "execution_count": 27,
   "metadata": {},
   "outputs": [
    {
     "name": "stdout",
     "output_type": "stream",
     "text": [
      "F1 Score :  0.9664450775561887\n",
      "Precision :  0.9668378262729995\n",
      "Recall :  0.9666666666666667\n"
     ]
    }
   ],
   "source": [
    "y_pred_1d = np.argmax(y_pred, axis=1)\n",
    "y_test_1d = np.argmax(y_test, axis=1)\n",
    "\n",
    "f1 = f1_score(y_test_1d, y_pred_1d, average='weighted')\n",
    "print(\"F1 Score : \", f1)\n",
    "\n",
    "precision = precision_score(y_test_1d, y_pred_1d, average='weighted')\n",
    "print(\"Precision : \", precision)\n",
    "\n",
    "recall = recall_score(y_test_1d, y_pred_1d, average='weighted')\n",
    "print(\"Recall : \", recall)"
   ]
  }
 ],
 "metadata": {
  "kernelspec": {
   "display_name": "Python 3",
   "language": "python",
   "name": "python3"
  },
  "language_info": {
   "codemirror_mode": {
    "name": "ipython",
    "version": 3
   },
   "file_extension": ".py",
   "mimetype": "text/x-python",
   "name": "python",
   "nbconvert_exporter": "python",
   "pygments_lexer": "ipython3",
   "version": "3.11.6"
  }
 },
 "nbformat": 4,
 "nbformat_minor": 2
}
